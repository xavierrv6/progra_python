{
 "cells": [
  {
   "cell_type": "markdown",
   "id": "2cd7c7db",
   "metadata": {},
   "source": [
    "# Ciclo infinito anidado"
   ]
  },
  {
   "cell_type": "code",
   "execution_count": 3,
   "id": "2055550c",
   "metadata": {},
   "outputs": [
    {
     "name": "stdout",
     "output_type": "stream",
     "text": [
      "Dame el primer número: 44\n",
      "Dame el segundo número: 1\n",
      "Dato incorrecto. El segundo número debe ser mayor al primero. Intenta de nuevo.\n",
      "[A] Preguntar el último, [B] Preguntar ambos: b\n",
      "Dame el primer número: 44\n",
      "Dame el segundo número: 22\n",
      "Dato incorrecto. El segundo número debe ser mayor al primero. Intenta de nuevo.\n",
      "[A] Preguntar el último, [B] Preguntar ambos: a\n",
      "Dame el segundo número: 55\n",
      "Fin del programa.\n"
     ]
    }
   ],
   "source": [
    "captura_n1=True\n",
    "captura_n2=True\n",
    "\n",
    "while True:\n",
    "    if captura_n1:\n",
    "        while True:\n",
    "            _n1=input(\"Dame el primer número: \")\n",
    "            if (_n1==''):\n",
    "                print('Dato incorrecto. No se puede omitir. Intenta de nuevo.')\n",
    "                continue\n",
    "            try:\n",
    "                n1=int(_n1)\n",
    "            except:\n",
    "                print('Dato incorrecto. El dato no es numérico. Intenta de nuevo.')\n",
    "                continue\n",
    "            if (not (n1>=0 and n1<100)):\n",
    "                print('Dato incorrecto. El dato está [0,100). Intenta de nuevo.')\n",
    "                continue\n",
    "            # Si llego aquí, n1 tiene un número entero entre [0,100)\n",
    "            captura_n1=False\n",
    "            break\n",
    "\n",
    "    if captura_n2:\n",
    "        while True:\n",
    "            _n2=input(\"Dame el segundo número: \")\n",
    "            if (_n2==''):\n",
    "                print('Dato incorrecto. No se puede omitir. Intenta de nuevo.')\n",
    "                continue\n",
    "            try:\n",
    "                n2=int(_n2)\n",
    "            except:\n",
    "                print('Dato incorrecto. El dato no es numérico. Intenta de nuevo.')\n",
    "                continue\n",
    "            if (not (n2>=0 and n2<100)):\n",
    "                print('Dato incorrecto. El dato está [0,100). Intenta de nuevo.')\n",
    "                continue\n",
    "            # Si llego aquí, n2 tiene un número entero entre [0,100)\n",
    "            captura_n2=False\n",
    "            break\n",
    "\n",
    "    # Validación a nivel formulario\n",
    "    if (n2<=n1):\n",
    "        print('Dato incorrecto. El segundo número debe ser mayor al primero. Intenta de nuevo.')\n",
    "        # Tipo de acción que queremos.\n",
    "        while True:\n",
    "            accion=input('[A] Preguntar el último, [B] Preguntar ambos: ')\n",
    "            accion=accion.upper()\n",
    "            if (accion=='A'):\n",
    "                captura_n2=True\n",
    "                break\n",
    "            elif (accion=='B'):\n",
    "                captura_n1=True\n",
    "                captura_n2=True\n",
    "                break\n",
    "            else:\n",
    "                print('Dato incorrecto. Solo A o B. Intenta de nuevo.')\n",
    "                continue\n",
    "        continue\n",
    "    # Si llega aquí, todo bien\n",
    "    break\n",
    "\n",
    "print('Fin del programa.')"
   ]
  }
 ],
 "metadata": {
  "kernelspec": {
   "display_name": "Python 3 (ipykernel)",
   "language": "python",
   "name": "python3"
  },
  "language_info": {
   "codemirror_mode": {
    "name": "ipython",
    "version": 3
   },
   "file_extension": ".py",
   "mimetype": "text/x-python",
   "name": "python",
   "nbconvert_exporter": "python",
   "pygments_lexer": "ipython3",
   "version": "3.11.5"
  }
 },
 "nbformat": 4,
 "nbformat_minor": 5
}
