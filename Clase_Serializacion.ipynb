{
 "cells": [
  {
   "cell_type": "markdown",
   "id": "26bfe400",
   "metadata": {},
   "source": [
    "**CLASE DE SERIALIZACIÓN**\n",
    "\n",
    "Elabora una clase llamada archivador, que tenga como función guardar y leer archivos físicos que contengan un objeto serializado. Los métodos sugeridos serían los siguientes:\n",
    "\n",
    "1. leer_archivo(): Lee el contenido de un archivo de extensión .pickle, y retorna el objeto contenido en él.\n",
    "\n",
    "1. Especificaciones:\n",
    "El objeto, internamente, estará serializado usando pickle.\n",
    "El método retorna una tupla que contiene un valor bool si la operación no fue posible (False), o si fue correcta (True).\n",
    "Como segundo valor de la tupla, retorna el objeto leído (siempre y cuando la operación haya sido posible). Si no, que regrese nada ''.\n",
    "\n",
    "1. Argumentos:\n",
    "archivo (str): Es el nombre del archivo, sin extensión.\n",
    "\n",
    "1. guardar_archivo(): Almacena un objeto serializado a pickle, en un archivo binario de extensión .pickle. Los argumentos del método son los siguientes:\n",
    "\n",
    "1. Especificaciones:\n",
    "Si el archivo existe, lo remplaza.\n",
    "Retorna True si tuvo éxito, y False si no.\n",
    "\n",
    "1. Argumentos:\n",
    "archivo (str): Es el nombre del archivo.\n",
    "objeto (unknown): Es el objeto a serializar. Puede ser de cualquier tipo.\n",
    "respaldar (bool): Indica si se desea hacer respaldo de extensión .bak del archivo existente, antes de su remplazo (True), o no (False)."
   ]
  },
  {
   "cell_type": "code",
   "execution_count": 1,
   "id": "254bab22",
   "metadata": {},
   "outputs": [],
   "source": [
    "# Definición de datos\n",
    "\n",
    "eventos={\n",
    "    1:\"Evento 1\",\n",
    "    2:\"Evento 2\"\n",
    "}\n",
    "\n",
    "asistentes={\n",
    "    1:\"Asistente 1\",\n",
    "    2:\"Asistente 2\",\n",
    "    3:\"Asistente 3\"\n",
    "}\n",
    "\n",
    "registro={\n",
    "    1:[1,1],\n",
    "    2:[2,1],\n",
    "    3:[3,1],\n",
    "    4:[1,2],\n",
    "    5:[2,2]\n",
    "}\n",
    "\n",
    "repositorio=[eventos,asistentes,registro]\n",
    "\n",
    "\n",
    "\n",
    "\n",
    "\n"
   ]
  },
  {
   "cell_type": "code",
   "execution_count": 2,
   "id": "6c947ada",
   "metadata": {},
   "outputs": [
    {
     "name": "stdout",
     "output_type": "stream",
     "text": [
      "b'\\x80\\x04\\x95\\x8d\\x00\\x00\\x00\\x00\\x00\\x00\\x00]\\x94(}\\x94(K\\x01\\x8c\\x08Evento 1\\x94K\\x02\\x8c\\x08Evento 2\\x94u}\\x94(K\\x01\\x8c\\x0bAsistente 1\\x94K\\x02\\x8c\\x0bAsistente 2\\x94K\\x03\\x8c\\x0bAsistente 3\\x94u}\\x94(K\\x01]\\x94(K\\x01K\\x01eK\\x02]\\x94(K\\x02K\\x01eK\\x03]\\x94(K\\x03K\\x01eK\\x04]\\x94(K\\x01K\\x02eK\\x05]\\x94(K\\x02K\\x02eue.'\n",
      "True\n"
     ]
    }
   ],
   "source": [
    "# Librería para serializar json\n",
    "import pickle\n",
    "\n",
    "repositorio_pickle = pickle.dumps(repositorio)\n",
    "\n",
    "print(repositorio_pickle)\n",
    "\n",
    "nuevo_objeto=pickle.loads(repositorio_pickle)\n",
    "\n",
    "print(repositorio==nuevo_objeto)"
   ]
  },
  {
   "cell_type": "code",
   "execution_count": 9,
   "id": "01f7db43",
   "metadata": {},
   "outputs": [],
   "source": [
    "import pickle\n",
    "import os\n",
    "\n",
    "class archivador:\n",
    "    objeto=''\n",
    "    archivo='sin_nombre.pickle'\n",
    "    respaldar=False\n",
    "\n",
    "    def __init__(self,objeto='',archivo='',respaldar=False):\n",
    "        self.objeto=objeto\n",
    "        self.archivo=archivo\n",
    "        self.respaldar=respaldar\n",
    "\n",
    "    def guardar_archivo(self,\n",
    "                        objeto='',\n",
    "                        archivo='sin_nombre.pickle',\n",
    "                        respaldar=False):\n",
    "        try:\n",
    "            if self.respaldar:\n",
    "                nombre_bak=self.archivo.split('.')[0]+'.bak'\n",
    "                if os.path.exists(archivo):\n",
    "                    if (os.path.exists(nombre_bak)):\n",
    "                        os.remove(nombre_bak)\n",
    "                        os.rename(archivo,nombre_bak)\n",
    "            # Se genera la versión serializada del objeto.\n",
    "            with open(archivo,\"wb+\") as f:\n",
    "                pickle.dump(objeto,f)\n",
    "        except:\n",
    "            # Si algo sale mal, retorna False (no fue posible)\n",
    "            # y un str vacío.\n",
    "            return False\n",
    "        # Si pudo hacer la operación, retorna True.\n",
    "        return True\n",
    "\n",
    "    def leer_archivo(self,archivo):\n",
    "        try:\n",
    "            with open(archivo,\"rb\") as f:\n",
    "                datos_recuperados=pickle.load(f)\n",
    "        except:\n",
    "            return False,''\n",
    "        # Si todo salió bien, retorna verdadero, y los datos.\n",
    "        return True, datos_recuperados\n"
   ]
  },
  {
   "cell_type": "code",
   "execution_count": 8,
   "id": "f46ba676",
   "metadata": {},
   "outputs": [
    {
     "ename": "IndexError",
     "evalue": "string index out of range",
     "output_type": "error",
     "traceback": [
      "\u001b[1;31m---------------------------------------------------------------------------\u001b[0m",
      "\u001b[1;31mIndexError\u001b[0m                                Traceback (most recent call last)",
      "Cell \u001b[1;32mIn[8], line 11\u001b[0m\n\u001b[0;32m      7\u001b[0m resultado, sin_modificar\u001b[38;5;241m=\u001b[39mtrabajo\u001b[38;5;241m.\u001b[39mleer_archivo(\u001b[38;5;124m'\u001b[39m\u001b[38;5;124mrepositorio.pickle\u001b[39m\u001b[38;5;124m'\u001b[39m)\n\u001b[0;32m     10\u001b[0m \u001b[38;5;66;03m# Modifico datos.\u001b[39;00m\n\u001b[1;32m---> 11\u001b[0m repositorio[\u001b[38;5;241m0\u001b[39m][\u001b[38;5;241m3\u001b[39m]\u001b[38;5;241m=\u001b[39m\u001b[38;5;124m\"\u001b[39m\u001b[38;5;124mEvento 3\u001b[39m\u001b[38;5;124m\"\u001b[39m\n",
      "\u001b[1;31mIndexError\u001b[0m: string index out of range"
     ]
    }
   ],
   "source": [
    "# Generar una instancia de la clase\n",
    "trabajo=archivador()\n",
    "\n",
    "\n",
    "# Leo el archivo.\n",
    "resultado, repositorio=trabajo.leer_archivo('repositorio.pickle')\n",
    "resultado, sin_modificar=trabajo.leer_archivo('repositorio.pickle')\n",
    "\n",
    "\n",
    "# Modifico datos.\n",
    "repositorio[0][3]=\"Evento 3\"\n",
    "\n",
    "#print(repositorio)\n",
    "#print(sin_modificar)\n"
   ]
  },
  {
   "cell_type": "code",
   "execution_count": 5,
   "id": "bea89f94",
   "metadata": {},
   "outputs": [
    {
     "data": {
      "text/plain": [
       "True"
      ]
     },
     "execution_count": 5,
     "metadata": {},
     "output_type": "execute_result"
    }
   ],
   "source": [
    "# Ejecutar el método guardar_archivo()\n",
    "trabajo.guardar_archivo(repositorio,'repositorio.pickle',False)"
   ]
  },
  {
   "cell_type": "code",
   "execution_count": 6,
   "id": "a95c7293",
   "metadata": {},
   "outputs": [
    {
     "name": "stdout",
     "output_type": "stream",
     "text": [
      "archivo.bak\n"
     ]
    }
   ],
   "source": [
    "archivo='archivo.doc'\n",
    "nombre_bak=archivo.split('.')[0]+'.bak'\n",
    "print(nombre_bak)"
   ]
  }
 ],
 "metadata": {
  "kernelspec": {
   "display_name": "Python 3 (ipykernel)",
   "language": "python",
   "name": "python3"
  },
  "language_info": {
   "codemirror_mode": {
    "name": "ipython",
    "version": 3
   },
   "file_extension": ".py",
   "mimetype": "text/x-python",
   "name": "python",
   "nbconvert_exporter": "python",
   "pygments_lexer": "ipython3",
   "version": "3.11.5"
  }
 },
 "nbformat": 4,
 "nbformat_minor": 5
}
