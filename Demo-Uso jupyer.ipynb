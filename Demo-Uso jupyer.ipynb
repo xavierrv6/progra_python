{
 "cells": [
  {
   "cell_type": "markdown",
   "id": "298ad0b7",
   "metadata": {},
   "source": [
    "# Circulo \n",
    "\n",
    "la formula para calcular el area de un ***circulo*** es:\n",
    "\n",
    "$$\\pi*r^2$$"
   ]
  },
  {
   "cell_type": "code",
   "execution_count": 1,
   "id": "fa1f6a37",
   "metadata": {},
   "outputs": [],
   "source": [
    "PI=3.1416\n",
    "\n",
    "radio=20.3"
   ]
  },
  {
   "cell_type": "code",
   "execution_count": 9,
   "id": "82343c72",
   "metadata": {},
   "outputs": [
    {
     "name": "stdout",
     "output_type": "stream",
     "text": [
      "El area del circulo es  1294.6219\n"
     ]
    }
   ],
   "source": [
    "area_circulo=PI*(radio*radio)\n",
    "print(f\"El area del circulo es {area_circulo: .4f}\")\n"
   ]
  },
  {
   "cell_type": "code",
   "execution_count": 2,
   "id": "45e94b17",
   "metadata": {},
   "outputs": [],
   "source": [
    "PI=3.1416"
   ]
  },
  {
   "cell_type": "code",
   "execution_count": 3,
   "id": "c9ae3844",
   "metadata": {},
   "outputs": [
    {
     "name": "stdout",
     "output_type": "stream",
     "text": [
      "Hola mundo\n"
     ]
    }
   ],
   "source": [
    "print(\"Hola mundo\")"
   ]
  }
 ],
 "metadata": {
  "kernelspec": {
   "display_name": "Python 3 (ipykernel)",
   "language": "python",
   "name": "python3"
  },
  "language_info": {
   "codemirror_mode": {
    "name": "ipython",
    "version": 3
   },
   "file_extension": ".py",
   "mimetype": "text/x-python",
   "name": "python",
   "nbconvert_exporter": "python",
   "pygments_lexer": "ipython3",
   "version": "3.11.5"
  }
 },
 "nbformat": 4,
 "nbformat_minor": 5
}
