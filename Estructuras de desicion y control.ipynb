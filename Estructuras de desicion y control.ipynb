{
 "cells": [
  {
   "cell_type": "markdown",
   "id": "0de9d862",
   "metadata": {},
   "source": [
    "Imagina que en una tienda departamental ofrece descuentos atendiendo a dos factores: a) la antiguedad del cliente y b) el monto acumulado de las compras. El programa debera preguntar primeramente la antiguedad del cliente y luego una serie de compras que desea realizar.\n",
    "\n",
    "**Parte 1 -**\n",
    "Define una variable para almacenar un monto acumulado de las compras -Pregunta la antiguedad, debe ser un numero entero (Año)"
   ]
  },
  {
   "cell_type": "code",
   "execution_count": 1,
   "id": "3dbe2ca7",
   "metadata": {},
   "outputs": [
    {
     "name": "stdout",
     "output_type": "stream",
     "text": [
      "¿Cual es la antiguedad? 5\n"
     ]
    }
   ],
   "source": [
    "#Declara una variable, llamada acumulado, para mantener el acumulado\n",
    "acumulado = 0.0\n",
    "\n",
    "#Se pregunta la antiguedad, usa dos variables: Antiguedad y antiguedad\n",
    "Antiguedad=input(\"¿Cual es la antiguedad? \")\n",
    "antiguedad=int(Antiguedad)\n"
   ]
  },
  {
   "cell_type": "markdown",
   "id": "ef8c1a4d",
   "metadata": {},
   "source": [
    "**Parte 2**\n",
    "\n",
    "1. Define un ciclo infinito (while True)\n",
    "\n",
    "1. Pregunta el monto de una compra\n",
    "\n",
    "1. Convertierte lo capturado a formato numerico\n",
    "\n",
    "1. Acumula el monto de la compra, utiliza (+=)\n",
    "\n",
    "1. Imprime el monto acumulado de compras, en formato moneda"
   ]
  },
  {
   "cell_type": "code",
   "execution_count": 2,
   "id": "1acdad9d",
   "metadata": {},
   "outputs": [
    {
     "name": "stdout",
     "output_type": "stream",
     "text": [
      "Dame el monto de la compra: 333\n",
      "El monto total de su compra es de $333.00 \n",
      "Dame el monto de la compra: 22\n",
      "El monto total de su compra es de $355.00 \n",
      "Dame el monto de la compra: 33\n",
      "El monto total de su compra es de $388.00 \n",
      "Dame el monto de la compra: 56\n",
      "El monto total de su compra es de $444.00 \n",
      "Dame el monto de la compra: 66\n",
      "El monto total de su compra es de $510.00 \n",
      "Dame el monto de la compra: \n"
     ]
    }
   ],
   "source": [
    "#inicia el ciclo infinito\n",
    "\n",
    "while True:\n",
    "  #se pregunta el monto\n",
    "  Monto=input(\"Dame el monto de la compra: \")\n",
    "\n",
    "  #si se omite el monto, sal del ciclo infinito\n",
    "\n",
    "  if Monto==\"\":\n",
    "    break\n",
    "\n",
    "  #si llega aqui, es que no se omitio el monto\n",
    "  #convierte lo acumulado a flotante\n",
    "  monto=float(Monto)\n",
    "\n",
    "   #acumula lo capturado, utilizando el operador +=\n",
    "  acumulado+=monto\n",
    "\n",
    "   #utilizando f-string, muentra el monto acumulado\n",
    "   #incluye simbolo de moneda, divion por comas para los miles, y dos decimales flotantes\n",
    "\n",
    "  print(f\"El monto total de su compra es de ${acumulado:,.2f} \")\n",
    "    "
   ]
  },
  {
   "cell_type": "markdown",
   "id": "f1ce7ce5",
   "metadata": {},
   "source": [
    "**Parte 3**\n",
    "\n",
    "1. Declara una variable para almacenar el descuento acumulado\n",
    "\n",
    "1. Evalua si la antiguedad es a 3, en cuyo caso, no aplica el descuento\n",
    "\n",
    "1. Muestra el descuento acumulado, usa formato porcentual\n",
    "\n",
    "Por el contrario:\n",
    "\n",
    "1. Usando formato recortada, aumenta 5% de descuento si el monto es mayor a 50000 o si no aumenta 2% al descuento.\n",
    "\n",
    "1. Usa un if anidado, si antiguedad es mayor a 5, acumula 10% mas de descuento\n",
    "\n",
    "1. Usa elif si antiguedad esta entre 3 y 5, acumula 5% mas de descuento\n",
    "\n",
    "1. En todos los casos, muestra el descuento acumulado, usa formato porcentual"
   ]
  },
  {
   "cell_type": "code",
   "execution_count": 4,
   "id": "a23c487c",
   "metadata": {},
   "outputs": [
    {
     "name": "stdout",
     "output_type": "stream",
     "text": [
      "El descuento acumulado es 7% \n"
     ]
    }
   ],
   "source": [
    "#declara la variable para almacenar el descuento acumulado\n",
    "descuento = 0.0\n",
    "\n",
    "#si la antiguedad es menor a 3 no aplica el descuento e imprime\n",
    "#el descuento acumulado en formato de porcentaje\n",
    "if antiguedad<3:\n",
    "  print(\"No hay descuento\")\n",
    "#de lo contrario\n",
    "else:\n",
    "\n",
    "  #usando la forma recorda de if, aumentale un 5% de descuento si el acumulado\n",
    "  #es mayor a 50000 o si no aumetale un 2%\n",
    "  descuento+=0.05 if acumulado>50000 else descuento+0.02\n",
    "\n",
    "  #si la antiguedad es mayor a 5, aumetale un 10%\n",
    "  if antiguedad>5:\n",
    "    descuento+=0.10\n",
    "\n",
    "\n",
    "  #de lo contrario y si la antiguedad esta entre 3 y 5 aumenta un 5%\n",
    "  elif antiguedad >=3 and antiguedad <=5:\n",
    "    descuento+=0.05\n",
    "\n",
    "\n",
    "  #imprime el descuento acumulado, usando formato porcentual\n",
    "  print(f\"El descuento acumulado es {descuento:.0%} \")"
   ]
  }
 ],
 "metadata": {
  "kernelspec": {
   "display_name": "Python 3 (ipykernel)",
   "language": "python",
   "name": "python3"
  },
  "language_info": {
   "codemirror_mode": {
    "name": "ipython",
    "version": 3
   },
   "file_extension": ".py",
   "mimetype": "text/x-python",
   "name": "python",
   "nbconvert_exporter": "python",
   "pygments_lexer": "ipython3",
   "version": "3.11.5"
  }
 },
 "nbformat": 4,
 "nbformat_minor": 5
}
