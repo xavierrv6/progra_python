{
 "cells": [
  {
   "cell_type": "markdown",
   "id": "39090fb6",
   "metadata": {},
   "source": [
    "**Parte 1**\n",
    "\n",
    "1. Crea una funcion llamada CalcularArea, que tenga dos argumentos, lado1, lado2\n",
    "\n",
    "1. La funcion debe retornar un mensaje que muestre el area de un cuadrilatero\n",
    "\n",
    "1. Si lado1 es igual a lado2, la funcion debe retornar, el area del cuadrado es x, donde x es el area del cuadrado (lado1*lado2)\n",
    "\n",
    "1. Si lado1 y lado2 son diferentes, debe retornar, el area del rectangulo es x, donde x es el area del rectangulo (lado1*lado2)\n",
    "\n",
    "1. Muestra el resultado de la funcion usando print\n",
    "\n",
    "1. Prueba usando como parametros 10 y 20\n",
    "\n",
    "1. Prueba usando como parametros 10 y 10\n",
    "\n",
    "1. Prueba usando parametros nominados, y pasa primero el parametro lado2 con el valor de 25 y luego pasa el parametro lado1 con el valor 5"
   ]
  },
  {
   "cell_type": "code",
   "execution_count": 1,
   "id": "7ee6cf35",
   "metadata": {},
   "outputs": [
    {
     "name": "stdout",
     "output_type": "stream",
     "text": [
      "El area del rectangulo es 200\n",
      "El area del cuadrado es 100\n",
      "El area del rectangulo es 125\n"
     ]
    }
   ],
   "source": [
    "#Declara una funcion llamada, CalcularArea usando def\n",
    "#Debes especificar dos argumentos, entre parentesis\n",
    "#separados por comas, lado1 y lado2 respectivamente\n",
    "\n",
    "def CalcularArea(lado1, lado2):\n",
    "  #Coloca una condicional donde evalues, si lado1 es igual a lado2\n",
    "  #Si son iguales, define una variable llamada mensaje y asiganle un f-string que diga\n",
    "  #f\"El area del cuadrado es{lado1 * lado2}\n",
    "  #Si no son iguales, define una variable llamda mensaje y asiganale un f-string\n",
    "  #que diga f\"El area del rectangulo es {lado1 * lado2}\n",
    "\n",
    "  if lado1 == lado2:\n",
    "    mensaje=f\"El area del cuadrado es {lado1 * lado2}\"\n",
    "  else:\n",
    "    mensaje=f\"El area del rectangulo es {lado1 * lado2}\"\n",
    "\n",
    "  #Se recomienda no usar return dentro de condicionales\n",
    "  #Por esa razon resolvemos el valor de retorno en el\n",
    "  #condicional, pero garantizamos que independientemente\n",
    "  #del resultado, return siempre se ejecuto\n",
    "  #Aqui rertorna el valor que tengas en mensaje\n",
    "\n",
    "  return mensaje\n",
    "\n",
    "  #Probando la funcion\n",
    "  #Imprime el valor que retorne CalcularArea, si le pasas como parametros 10 y 20\n",
    "print(CalcularArea(10, 20))\n",
    "  #Imprime el valor que retorne CalcularArea, si le pasas como parametros 10 y 10\n",
    "print(CalcularArea(10, 10))\n",
    "  #Imprime el valor que retorne CalcularArea, si le pasas parametros\n",
    "  #nominados, lado1 como 25 y lado2 como 5\n",
    "print(CalcularArea(lado1=25, lado2=5))"
   ]
  },
  {
   "cell_type": "markdown",
   "id": "17cea60a",
   "metadata": {},
   "source": [
    "**Parte 2**\n",
    "\n",
    "1. Deseas crear una funcion llamada CapturaEnteroPositivo\n",
    "\n",
    "1. La funcion tiene un argumento, llamado mensaje, que es opcional. En caso de que no se proporcione un parametro al momento de ser llamado a ejecucion, debera asignarse como mensaje Proporciona un numero:\n",
    "\n",
    "\n",
    "La funcion debera realizar lo siguiente\n",
    "\n",
    "1. Debera preguntar un dato\n",
    "\n",
    "1. El dato se preguntara en un ciclo infinito, que no dejara de preguntarse sino hasta que sea correcto, o que se omita respuesta.\n",
    "\n",
    "1. Si se omite la respuesta, indique salirse del ciclo -Sino se omite, debera capturarse un numero entero positivo. Se sugiere permitir la captura de 0 a 6 digitos\n",
    "\n",
    "1. Es importante aclarar que al final de ejecutar el programa, se debe mostrar la suma acumulada de todos los valores que se hayan capturado usando la funcion, para la cual se utilizara un acumulador, de naturaleza global.\n",
    "\n",
    "1. Probar ejecuntando de la siguiente manera:\n",
    "\n",
    "1. Ejecutar CapturarEnteroPositivo(\"Dame una cifra: \") y capturar 10\n",
    "\n",
    "1. Ejecutar CapturarEnteroPositivo() y capturar 30\n",
    "\n",
    "1. Ejecutar CapturarEnteroPositivo() y capturar hola, luego -2 y luego 50\n",
    "\n",
    "1. Al final, imprimir el total acumulado de los valores proporcionados, que debe ser 90"
   ]
  },
  {
   "cell_type": "code",
   "execution_count": 5,
   "id": "ade66b76",
   "metadata": {},
   "outputs": [
    {
     "name": "stdout",
     "output_type": "stream",
     "text": [
      "Proporciona un numero: -2\n",
      "El dato no puede ser negativo\n",
      "Proporciona un numero: 1\n",
      "Proporciona un numero: 4444\n",
      "Proporciona un numero: 1\n",
      "4446\n"
     ]
    }
   ],
   "source": [
    "#importando la libreria de manejo de expresiones regulares\n",
    "#y definir el patron requerido por el programa\n",
    "import re\n",
    "patron = \"^[+-]?[0-9]{0,5}$\"\n",
    "\n",
    "#declara una variable de tipo entero, llamada acumulado\n",
    "#que sera global\n",
    "acumulado=0\n",
    "#declara una funcion llamada CapturaEnteroPositivo, que\n",
    "#tenga un argumento llamado mensaje, con un valor por emision que\n",
    "#sea Prporciona un numero\n",
    "def CapturaEnteroPositivo(mensaje= \"Proporciona un numero: \"):\n",
    "\n",
    "    #especifica que quieres usar la variable acumulado como global\n",
    "    global acumulado\n",
    "    #inicia un ciclo infinito\n",
    "    while True:\n",
    "\n",
    "        #pregunta un dato usando input, coloca como texto lo que tengas en\n",
    "        #el argumento mensaje. Asigna lo preguntado a una variable llamada numero\n",
    "        Numero=input(mensaje)\n",
    "\n",
    "        #agrega un condicional, si numero es igual a nada\n",
    "        #sal del ciclo infinito usando break\n",
    "        if Numero == \" \":\n",
    "            break\n",
    "        #agrega un condicional, si numero no cumple con el patron de expresion regular\n",
    "        #almacenado en patron informa que el dato no tiene formato correcto, usando print\n",
    "        #y ejecuta continue para que vuelva a continuar\n",
    "        if not bool(re.match(patron,Numero)):\n",
    "            print(\"El dato no tiene formato correcto\")\n",
    "            continue\n",
    "\n",
    "        #si llegas hasta aqui, quiere decir que lo capturado tiene formato de umero\n",
    "        #entero, asigna la conversion de Numero a int y asignalo a una variable llamada\n",
    "        #numero\n",
    "        numero=int(Numero)\n",
    "\n",
    "        #agrega un condicional, si numero es menor a cero, iforma que el dato\n",
    "        #no puede ser negativo, usando print y ejecuta continue, para que vuelva a preguntar\n",
    "        if numero<0:\n",
    "            print(\"El dato no puede ser negativo\")\n",
    "            continue\n",
    "\n",
    "        #si llega aqui, es que lo capturado pudo convertirse a int, acumula el valor de\n",
    "        #numero en la variable global acumulado, luego sal del ciclo infinito con break\n",
    "        acumulado+=numero\n",
    "        break\n",
    "\n",
    "#ya programaste la funcion, ahora falta probarla\n",
    "\n",
    "#ejecuta la funcion CapturarEnteroPositivo, pasandole como parametro\n",
    "#dame una cifra: captura 10, se demuestra que si se proporciona un parametro\n",
    "#estos remplazan al valor por omision\n",
    "CapturaEnteroPositivo()\n",
    "#ejecuta la funcion CapturarEnteroPositivo y no pases parametros\n",
    "#captura 30, se demuestra que si los argumentos son opcionales y se omite\n",
    "#el parametro, la funcion usa el valor por omision\n",
    "CapturaEnteroPositivo()\n",
    "#ejecuta la funcion CapturarEnteroPositivo y no pases parametros\n",
    "#captura hola, luego captura -2 y luego captura 50\n",
    "#se demuestra que la funcion valida correctamente\n",
    "CapturaEnteroPositivo()\n",
    "#imprime el valor acumulado en la variable acumulado\n",
    "#debe ser 90\n",
    "print(acumulado)"
   ]
  },
  {
   "cell_type": "markdown",
   "id": "c6256cc6",
   "metadata": {},
   "source": [
    "**Parte 3**\n",
    "\n",
    "Elabora una funcion llamada HoraTemporal(), que reciba un argumento, consistente en una hora en formato decimal y que sea de retorno multiple, se espera que retorne dos datos enteros, uno correspondiente a las horas y otro correspiente a los minutos\n",
    "\n",
    "Por ejemplo, si se proporciona el valor 1.5 horas, retorne 1 en el valor de las horas y 30 minutos porque el 0.5 de una hora son 30 minutos\n",
    "\n",
    "Las horas seran igual a convertir a entero la hora decimal, la diferencia entre la hora y la hora decimal nos dara la parte decimal de la hora, que multiplicada por 60 y convertida a entero, nos da los minutos.\n",
    "\n",
    "Si se ejecuta lo siguiente:\n",
    "\n",
    "(x,y) = HoraTemporal(1.5)\n",
    "\n",
    "x tendra el valor de 1 y y de 30, f\"{x}: {y}\" Generaria 1:30\n",
    "\n",
    "Pruebalo asi y imprime el valor de x y de y"
   ]
  },
  {
   "cell_type": "code",
   "execution_count": 6,
   "id": "ffb75937",
   "metadata": {},
   "outputs": [
    {
     "name": "stdout",
     "output_type": "stream",
     "text": [
      "La hora es 1:30\n"
     ]
    }
   ],
   "source": [
    "#Elaborar una funcion llamada HoraTemporal que reciba un argumento\n",
    "#tipo float, que represente una hora en decimal y que retorne dos\n",
    "#valores int: uno correspondiente a la hora y el otro a los minutos\n",
    "def HoraTemporal(hora_decimal):\n",
    "    horas=int(hora_decimal)\n",
    "    minutos=int((hora_decimal-horas)*60)\n",
    "    return horas,minutos\n",
    "\n",
    "(x,y) = HoraTemporal(1.5)\n",
    "print(f\"La hora es {x}:{y}\")"
   ]
  }
 ],
 "metadata": {
  "kernelspec": {
   "display_name": "Python 3 (ipykernel)",
   "language": "python",
   "name": "python3"
  },
  "language_info": {
   "codemirror_mode": {
    "name": "ipython",
    "version": 3
   },
   "file_extension": ".py",
   "mimetype": "text/x-python",
   "name": "python",
   "nbconvert_exporter": "python",
   "pygments_lexer": "ipython3",
   "version": "3.11.5"
  }
 },
 "nbformat": 4,
 "nbformat_minor": 5
}
