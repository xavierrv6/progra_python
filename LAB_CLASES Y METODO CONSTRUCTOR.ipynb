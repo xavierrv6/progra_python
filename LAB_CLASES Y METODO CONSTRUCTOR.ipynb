{
 "cells": [
  {
   "cell_type": "markdown",
   "id": "40f86adc",
   "metadata": {},
   "source": [
    "**Parte 1: definicion de clases y encapsulamiento**\n",
    "\n",
    "1. Genera una clase llamada ManejoCirculo\n",
    "1. Declara un atributo llamado radio que sea tipo float\n",
    "1. Declara un atributo llamado __pi;el identificar debe iniciar con doble guion bajo, para que este atributo sea no expuesto(private). Asignale a estre atributo el valor de 3.141592653\n",
    "1. Declara una propiedad llamada diametro que debe retornar el valor de la propiedad Radio del objeto, multiplicado por 2\n",
    "1. Declara un metodo llamado CalcularArea() que retorna el area del circulo, utilzando los valores de los elementos del objeto(self)\n",
    "1. Declara un metodo llamado CalcularCircunferencia(), que retorna la circunferencia del circulo, utilzando los valores de los elementos del objeto(self)\n",
    "1. Demuestra el funcionamiento de la clase. Genera una instancia de la clase ManejoCirculo(), llamada mi_circulo.\n",
    "1. Establece el atributo Radio del objeto mi_circulo, el valor de 10.0\n",
    "1. Imprime el valor de la propiedad Diametro del objeto mi_circulo;comprueba que se actualiza actumaticamente.\n",
    "1. Imprime el valor que retorna ejecutar el metodo CalcularArea(), del objeto mi_circulo\n",
    "1. Imprime el valor que retorna ejecutar el metodo CalcularCircunferencia(), del objeto mi circulo\n",
    "1. Intenta imprimir el atributo __pi, del objeto mi_circulo. Toma en cuenta que ese atributo no esta expuesto."
   ]
  },
  {
   "cell_type": "code",
   "execution_count": 3,
   "id": "356a6b6b",
   "metadata": {},
   "outputs": [
    {
     "name": "stdout",
     "output_type": "stream",
     "text": [
      "20.0\n",
      "314.1592653\n",
      "62.83185306\n"
     ]
    }
   ],
   "source": [
    "#1 Genera una clase llamada ManejoCirculo.\n",
    "class ManejoCirculo:\n",
    "\n",
    "    #2 Declara un atributo llamado Radio que sea tipo float.\n",
    "    Radio = 0.0\n",
    "\n",
    "\n",
    "    #3 Declara un atributo llamado __pi;el identificar debe iniciar con doble guion bajo\n",
    "    # para que este atributo sea no expuesto(private).\n",
    "    # Asignale a estre atributo el valor de 3.141592653\n",
    "    __pi = 3.141592653\n",
    "\n",
    "    #4 Declara una propiedad llamada diametro que debe retornar el valor de la propiedad Radio del objeto,\n",
    "    # multiplicado por 2.\n",
    "    @property\n",
    "    def Diametro (self):\n",
    "        return self.Radio*2\n",
    "\n",
    "    #5 Declara un metodo llamado CalcularArea() que retorna el area del circulo,\n",
    "    # utilzando los valores de los elementos del objeto(self)\n",
    "    def CalcularArea(self):\n",
    "        return self.__pi * self.Radio**2\n",
    "\n",
    "    #6 Declara un metodo llamado CalcularCircunferencia(),\n",
    "    # que retorna la circunferencia del circulo,\n",
    "    # utilzando los valores de los elementos del objeto(self)\n",
    "    def CalcularCircunferencia(self):\n",
    "        return self.__pi * self.Diametro\n",
    "\n",
    "#7 Demuestra el funcionamiento de la clase.\n",
    "#Genera una instancia de la clase ManejoCirculo(), llamada mi_circulo.\n",
    "#Recuerda que sale de la clase, ya que se va a ejecutar\n",
    "mi_circulo=ManejoCirculo()\n",
    "\n",
    "#8 Establece el atributo Radio del objeto mi_circulo, el valor de 10.0\n",
    "mi_circulo.Radio=10.0\n",
    "\n",
    "#9 Imprime el valor de la propiedad Diametro del objeto mi_circulo;\n",
    "# comprueba que se actualiza actumaticamente.\n",
    "print(mi_circulo.Diametro)\n",
    "\n",
    "\n",
    "#10 Imprime el valor que retorna ejecutar el metodo CalcularArea(),\n",
    "# del objeto mi_circulo\n",
    "print(mi_circulo.CalcularArea())  # Siempre los metodos deben llevar parentesis al final\n",
    "\n",
    "#11 Imprime el valor que retorna ejecutar el metodo CalcularCircunferencia(),\n",
    "#del objeto mi circulo\n",
    "print(mi_circulo.CalcularCircunferencia())\n",
    "\n",
    "\n",
    "\n",
    "        \n",
    "        "
   ]
  },
  {
   "cell_type": "markdown",
   "id": "8ef969e3",
   "metadata": {},
   "source": [
    "**Definicion de clases y encapsulamiento (Continuacion)**\n",
    "\n",
    "1. Declara un metodo constructor. Coloca como argumento a self, y a radio. El argumento Radio es opcional; si no se proporciona un valor, debera asumirse cero.\n",
    "1. Si el argumento Radio es negativo, convertir a cero.\n",
    "1. Asigna al atributo del objeto, el valor que tenga el argumento Radio.\n",
    "1. Genera una instancia de la clase, utilizando el metodo constructor, pasandole como parametro, el valor que deseas que tenga Radio.\n",
    "1. Imprime el valor de la propiedad Diametro del objeto mi_circulo: comprueba que se utiliza automaticamente.\n",
    "1. Imprime el valor que retorna ejecutar el metodo CalcularArea() del objeto mi_circulo\n",
    "1. Imprime el valor que retorna ejecutar el metodo CalcularCircunferencia() del objeto mi_circulo"
   ]
  },
  {
   "cell_type": "code",
   "execution_count": 4,
   "id": "ff80d059",
   "metadata": {},
   "outputs": [
    {
     "name": "stdout",
     "output_type": "stream",
     "text": [
      "0.0\n",
      "0.0\n"
     ]
    }
   ],
   "source": [
    "class ManejoCirculo():\n",
    "    Radio=0.0\n",
    "    _pi=3.141592653\n",
    "    @property\n",
    "    def Diametro(self):\n",
    "        return self.Radio *2\n",
    "    def CalcularArea(self):\n",
    "        return self._pi * self.Radio**2\n",
    "    def CalcularCircunferencia(self):\n",
    "        return self._pi * self.Diametro\n",
    "\n",
    "\n",
    "    #13. Declara un metodo constructor. Coloca como argumento a self y a Radio\n",
    "    # El argumento Radio es opcional; si no se proporciona un valor\n",
    "    # debera asumirse cero.\n",
    "\n",
    "    def __init__(self, Radio=0.0):\n",
    "\n",
    "        #14. Si el argumento Radio es negativo, convertir a cero\n",
    "        if Radio <0: Radio=0.0\n",
    "\n",
    "        #15. Asigna al atributo del objeto, el valor que tenga el argumento Radio\n",
    "        self.Radio=Radio\n",
    "\n",
    "#16. Genera una instancia de la clase, utilizando el metodo constructor, pasandole\n",
    "# como parametro el valor que seas que tenga Radio.\n",
    "\n",
    "\n",
    "#17. Imprime el valor de la propiedad Diametro, del objeto mi_circulo;\n",
    "# comprueba que se actualiza automaticamente.\n",
    "mi_circulo=ManejoCirculo()\n",
    "\n",
    "#18. Imprime el valor que retorna ejectutar el metodo CalcularArea()\n",
    "# del objeto mi_circulo\n",
    "print(mi_circulo.CalcularArea())\n",
    "\n",
    "#18. Imprime el valor que retorna ejectutar el metodo CalcularCircunferencia()\n",
    "# del objeto mi_circulo\n",
    "print(mi_circulo.CalcularCircunferencia())\n"
   ]
  }
 ],
 "metadata": {
  "kernelspec": {
   "display_name": "Python 3 (ipykernel)",
   "language": "python",
   "name": "python3"
  },
  "language_info": {
   "codemirror_mode": {
    "name": "ipython",
    "version": 3
   },
   "file_extension": ".py",
   "mimetype": "text/x-python",
   "name": "python",
   "nbconvert_exporter": "python",
   "pygments_lexer": "ipython3",
   "version": "3.11.5"
  }
 },
 "nbformat": 4,
 "nbformat_minor": 5
}
