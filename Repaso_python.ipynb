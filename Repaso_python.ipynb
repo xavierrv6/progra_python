{
 "cells": [
  {
   "cell_type": "code",
   "execution_count": 11,
   "id": "1e9d6bca",
   "metadata": {},
   "outputs": [
    {
     "name": "stdout",
     "output_type": "stream",
     "text": [
      "Programa que calcula el area de un triangulo\n",
      "Valor de la base: \n",
      "20\n",
      "Valor de la altura: \n",
      "13\n",
      "El area es:  130.0\n"
     ]
    }
   ],
   "source": [
    "# Area triangulo \n",
    "print(\"Programa que calcula el area de un triangulo\")\n",
    "print (\"Valor de la base: \")\n",
    "base=float(input())\n",
    "print(\"Valor de la altura: \")\n",
    "altura=float(input())\n",
    "res=(base*altura)/2\n",
    "print(\"El area es: \", res)"
   ]
  },
  {
   "cell_type": "code",
   "execution_count": 14,
   "id": "e9adff48",
   "metadata": {},
   "outputs": [
    {
     "name": "stdout",
     "output_type": "stream",
     "text": [
      "**PROGRAMA VOCALES**\n",
      "Ingrese una letra:\n",
      "b\n",
      "No es una vocal\n"
     ]
    }
   ],
   "source": [
    "# If anidado de vocales\n",
    "print(\"**PROGRAMA VOCALES**\")\n",
    "print(\"Ingrese una letra:\")\n",
    "letra=input()\n",
    "if letra==\"A\" or letra==\"a\":\n",
    "    print(\"Es una vocal\")\n",
    "else:\n",
    "    if letra==\"E\" or letra==\"e\":\n",
    "     print(\"Es una vocal\")\n",
    "    else:\n",
    "        if letra==\"I\" or letra==\"i\":\n",
    "         print(\"Es una vocal\")\n",
    "        else:\n",
    "            if letra==\"O\" or letra==\"o\":\n",
    "             print(\"Es una vocal\")\n",
    "            else:\n",
    "                if letra==\"U\" or letra==\"u\":\n",
    "                 print(\"Es una vocal\")\n",
    "                else:\n",
    "                 print(\"No es una vocal\")\n",
    "                           "
   ]
  },
  {
   "cell_type": "code",
   "execution_count": 13,
   "id": "5c1fb9bf",
   "metadata": {},
   "outputs": [
    {
     "name": "stdout",
     "output_type": "stream",
     "text": [
      "0\n",
      "1\n",
      "2\n",
      "3\n",
      "4\n",
      "5\n",
      "6\n",
      "7\n",
      "8\n",
      "9\n"
     ]
    }
   ],
   "source": [
    "# Ciclo para numeracion\n",
    "for i in range (10):\n",
    "    print(i)"
   ]
  },
  {
   "cell_type": "code",
   "execution_count": 8,
   "id": "77ff4671",
   "metadata": {},
   "outputs": [
    {
     "name": "stdout",
     "output_type": "stream",
     "text": [
      "2\n",
      "4\n",
      "6\n",
      "8\n",
      "10\n",
      "12\n",
      "14\n",
      "16\n",
      "18\n",
      "20\n"
     ]
    }
   ],
   "source": [
    "# Ejemplo para hacer serie o multiplicacion\n",
    "for h in range(2,22,2):\n",
    "    print(h)"
   ]
  },
  {
   "cell_type": "code",
   "execution_count": 6,
   "id": "c74c6877",
   "metadata": {},
   "outputs": [
    {
     "name": "stdout",
     "output_type": "stream",
     "text": [
      "X\n",
      "A\n",
      "V\n",
      "I\n",
      "E\n",
      "R\n"
     ]
    }
   ],
   "source": [
    "# Hacer que una palabra se muestre por letra\n",
    "palabra=\"XAVIER\"\n",
    "for letra in palabra:\n",
    "    print(letra)"
   ]
  },
  {
   "cell_type": "code",
   "execution_count": 4,
   "id": "41bf3e91",
   "metadata": {},
   "outputs": [
    {
     "name": "stdout",
     "output_type": "stream",
     "text": [
      "9\n",
      "F\n",
      "NOG\n",
      "FONOG\n",
      "NOGRAFO\n",
      "F\n",
      "ONOGRAF\n"
     ]
    }
   ],
   "source": [
    "# F  O  N  O  G  R  A  F  O\n",
    "# 0  1  2  3  4  5  6  7  8\n",
    "#-9 -8 -7 -6 -5 -4 -3 -2 -1\n",
    "palabra = \"FONOGRAFO\"\n",
    "print(len(palabra))\n",
    "print(palabra [0]) #curly brakets alt + 91\n",
    "print(palabra [2:5])\n",
    "print(palabra [:5])\n",
    "print(palabra [2:])\n",
    "print(palabra [-2])\n",
    "print(palabra [1:8])\n"
   ]
  },
  {
   "cell_type": "code",
   "execution_count": 5,
   "id": "6cf0fcbe",
   "metadata": {},
   "outputs": [
    {
     "name": "stdout",
     "output_type": "stream",
     "text": [
      "16\n"
     ]
    }
   ],
   "source": [
    "# Se define una funcion\n",
    "# que retorna el valor de un cuadrado\n",
    "def calcular_cuadrado(n):\n",
    "    x=n*n  # en este caso a x se le asigna el valor de n\n",
    "    return x\n",
    "print(calcular_cuadrado(4))"
   ]
  },
  {
   "cell_type": "code",
   "execution_count": 10,
   "id": "704f66f4",
   "metadata": {},
   "outputs": [
    {
     "name": "stdout",
     "output_type": "stream",
     "text": [
      "Progama que calcula el area de un triangulo\n",
      "Ingrese la medida de la base:\n",
      "10\n",
      "Ingrese la medida de la altura:\n",
      "5\n",
      "El area del triangulo es 25.0\n",
      "Desea continuar {S/N}\n",
      "N\n"
     ]
    }
   ],
   "source": [
    "# Ciclo infinito para area de un triangulo\n",
    "opcion=\"S\"\n",
    "while opcion.upper()==\"S\":\n",
    "        print(\"Progama que calcula el area de un triangulo\")\n",
    "        print(\"Ingrese la medida de la base:\")\n",
    "        base=float(input())\n",
    "        print(\"Ingrese la medida de la altura:\")\n",
    "        altura=float(input())\n",
    "        res=(base*altura)/2\n",
    "        print(\"El area del triangulo es\",res)\n",
    "        print(\"Desea continuar {S/N}\")\n",
    "        opcion=input()\n",
    "   "
   ]
  }
 ],
 "metadata": {
  "kernelspec": {
   "display_name": "Python 3 (ipykernel)",
   "language": "python",
   "name": "python3"
  },
  "language_info": {
   "codemirror_mode": {
    "name": "ipython",
    "version": 3
   },
   "file_extension": ".py",
   "mimetype": "text/x-python",
   "name": "python",
   "nbconvert_exporter": "python",
   "pygments_lexer": "ipython3",
   "version": "3.11.5"
  }
 },
 "nbformat": 4,
 "nbformat_minor": 5
}
