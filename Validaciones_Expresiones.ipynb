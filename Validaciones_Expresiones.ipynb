{
 "cells": [
  {
   "cell_type": "code",
   "execution_count": 3,
   "id": "40a9fb5b",
   "metadata": {},
   "outputs": [
    {
     "name": "stdout",
     "output_type": "stream",
     "text": [
      "Dame la altura en metros: 1\n",
      "El dato no es decimal\n",
      "Dame la altura en metros: 1.7\n",
      "La altura capturada es 1.70\n"
     ]
    }
   ],
   "source": [
    "#Valida la captura de un numero que debe ser flota\n",
    "#Valida la captura de un numero que debe ser flotante\n",
    "#por ejemplo, la altura en metros de una persona\n",
    "#y uno en los decimales. El dato no se puede omitir\n",
    "#Comprueba dejando en blanco, luego capturando \"hola\"\n",
    "#y finalmente 1.80\n",
    "\n",
    "while True:\n",
    "    Altura=input(\"Dame la altura en metros: \")\n",
    "    if Altura==\"\":\n",
    "        print(\"La altura no se puede omitir\")\n",
    "        continue\n",
    "    import re  #import re debe de ir antes para que funcione el re.match, si no\n",
    "               #marcara error\n",
    "    if not bool(re.match(\"^[+-]?[0-9]+[.][0-9]+$\",Altura)):\n",
    "        print(\"El dato no es decimal\")\n",
    "        continue\n",
    "    else:\n",
    "        altura=float(Altura)\n",
    "        break\n",
    "\n",
    "print(f\"La altura capturada es {altura:.2f}\")"
   ]
  }
 ],
 "metadata": {
  "kernelspec": {
   "display_name": "Python 3 (ipykernel)",
   "language": "python",
   "name": "python3"
  },
  "language_info": {
   "codemirror_mode": {
    "name": "ipython",
    "version": 3
   },
   "file_extension": ".py",
   "mimetype": "text/x-python",
   "name": "python",
   "nbconvert_exporter": "python",
   "pygments_lexer": "ipython3",
   "version": "3.11.5"
  }
 },
 "nbformat": 4,
 "nbformat_minor": 5
}
